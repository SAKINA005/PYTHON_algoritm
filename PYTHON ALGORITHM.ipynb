{
 "cells": [
  {
   "cell_type": "markdown",
   "metadata": {},
   "source": [
    "LES ALGORIRHMES EN PYTHON"
   ]
  },
  {
   "cell_type": "code",
   "execution_count": 14,
   "metadata": {},
   "outputs": [
    {
     "name": "stdout",
     "output_type": "stream",
     "text": [
      "La factorielle de 4 est 24\n"
     ]
    }
   ],
   "source": [
    "def recursive_factoriel(num):\n",
    "    \n",
    "# vérifier si le nombre est négatif, positif ou nul\n",
    "\n",
    "    if num <  0 :\n",
    "\n",
    "        print(\"Sorry, factorial does not exist for negative numbers\")\n",
    "\n",
    "    elif num == 0 :\n",
    "\n",
    "         print(\"La factorielle de 0 est 1\" )\n",
    "\n",
    "    else :\n",
    "        factoriel = 1\n",
    "        for i in range(1,num + 1) :\n",
    "            factoriel = factoriel*i\n",
    "        print(\"La factorielle de\" ,num,\"est\" ,factoriel)\n",
    "recursive_factoriel(4)\n"
   ]
  },
  {
   "cell_type": "markdown",
   "metadata": {},
   "source": []
  },
  {
   "cell_type": "code",
   "execution_count": 4,
   "metadata": {},
   "outputs": [
    {
     "name": "stdout",
     "output_type": "stream",
     "text": [
      "False\n",
      "1000\n",
      "[1, 2, 5, 5, 6, 9, 20]\n"
     ]
    }
   ],
   "source": [
    "# Write a Python program for a binary search.\n",
    "\n",
    "def binary_search(arr, target):\n",
    "    last_index=len(arr) - 1\n",
    "    first_index = 0\n",
    "    while first_index <= last_index:\n",
    "        mid = (first_index + last_index) // 2\n",
    "        if arr[mid] == target:\n",
    "            return True\n",
    "        elif arr[mid] < target:\n",
    "            first_index = mid + 1\n",
    "        else:\n",
    "            last_index = mid - 1\n",
    "    return False\n",
    "print(binary_search([1, 2, 3, 5, 8], 6))\n",
    "\n",
    "\n",
    "\n",
    "# Power function\n",
    "def power(a, b):\n",
    "    return a ** b\n",
    "print(power(10,3))\n",
    "\n",
    "\n",
    "# Bubble Sort\n",
    "def bubble_sort(arr):\n",
    "    n = len(arr)\n",
    "    for i in range(n):\n",
    "        for j in range(0, n-i-1):\n",
    "            if arr[j] > arr[j+1]:\n",
    "                arr[j], arr[j+1] = arr[j+1], arr[j]\n",
    "    return arr\n",
    "\n",
    "print(bubble_sort([5, 2, 9, 1, 5, 6,20]))\n",
    "\n",
    "\n",
    "\n",
    "\n",
    "\n"
   ]
  },
  {
   "cell_type": "code",
   "execution_count": 6,
   "metadata": {},
   "outputs": [
    {
     "name": "stdout",
     "output_type": "stream",
     "text": [
      "[13, 22, 29, 37, 46, 49, 52, 56, 71]\n"
     ]
    }
   ],
   "source": [
    "#4.merge sort algorithm\n",
    "def merge_sort(arr):\n",
    "    if len(arr) > 1:\n",
    "        mid = len(arr) // 2\n",
    "        L = arr[:mid]\n",
    "        R = arr[mid:]\n",
    "\n",
    "        merge_sort(L)\n",
    "        merge_sort(R)\n",
    "\n",
    "        i = j = k = 0\n",
    "        while i < len(L) and j < len(R):\n",
    "            if L[i] < R[j]:\n",
    "                arr[k] = L[i]\n",
    "                i += 1\n",
    "            else:\n",
    "                arr[k] = R[j]\n",
    "                j += 1\n",
    "            k += 1\n",
    "\n",
    "        while i < len(L):\n",
    "            arr[k] = L[i]\n",
    "            i += 1\n",
    "            k += 1\n",
    "\n",
    "        while j < len(R):\n",
    "            arr[k] = R[j]\n",
    "            j += 1\n",
    "            k += 1\n",
    "    return arr\n",
    "\n",
    "print(merge_sort([29, 13, 22, 37, 52, 49, 46, 71, 56]))"
   ]
  },
  {
   "cell_type": "code",
   "execution_count": 7,
   "metadata": {},
   "outputs": [
    {
     "name": "stdout",
     "output_type": "stream",
     "text": [
      "[13, 22, 29, 37, 46, 49, 52, 56, 71]\n"
     ]
    }
   ],
   "source": [
    "#Quick sort\n",
    "def quick_sort(arr):\n",
    "    if len(arr) <= 1:\n",
    "        return arr\n",
    "    pivot = arr[len(arr) // 2]\n",
    "    left = [x for x in arr if x < pivot]\n",
    "    middle = [x for x in arr if x == pivot]\n",
    "    right = [x for x in arr if x > pivot]\n",
    "    return quick_sort(left) + middle + quick_sort(right)\n",
    "\n",
    "print(quick_sort([29, 13, 22, 37, 52, 49, 46, 71, 56]))"
   ]
  }
 ],
 "metadata": {
  "kernelspec": {
   "display_name": "Python 3",
   "language": "python",
   "name": "python3"
  },
  "language_info": {
   "codemirror_mode": {
    "name": "ipython",
    "version": 3
   },
   "file_extension": ".py",
   "mimetype": "text/x-python",
   "name": "python",
   "nbconvert_exporter": "python",
   "pygments_lexer": "ipython3",
   "version": "3.11.9"
  }
 },
 "nbformat": 4,
 "nbformat_minor": 2
}
